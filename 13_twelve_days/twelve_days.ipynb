{
 "cells": [
  {
   "cell_type": "markdown",
   "metadata": {},
   "source": [
    "# Twelve Days of Christmas\n",
    "\n",
    "Write a program that will generate the verse \"The Twelve Days of Christmas\" song"
   ]
  },
  {
   "cell_type": "code",
   "execution_count": 1,
   "metadata": {
    "dotnet_interactive": {
     "language": "pwsh"
    },
    "polyglot_notebook": {
     "kernelName": "pwsh"
    },
    "vscode": {
     "languageId": "polyglot-notebook"
    }
   },
   "outputs": [
    {
     "name": "stdout",
     "output_type": "stream",
     "text": [
      "Ten lords a leaping,\n",
      "Nine ladies dancing,\n",
      "Eight maids a milking,\n",
      "Seven swans a swimming,\n",
      "Six geese a laying,\n",
      "Five gold rings,\n",
      "Four calling birds,\n",
      "Three French hens,\n",
      "Two turtle doves,\n",
      "And a partridge in a pear tree.\n"
     ]
    }
   ],
   "source": [
    "(./twelve_days.ps1).split(\"`n\") | select -last 10"
   ]
  },
  {
   "cell_type": "markdown",
   "metadata": {},
   "source": [
    "The program should accept a `-n` or `--number` (default 12) to control the number of verses that are generated"
   ]
  },
  {
   "cell_type": "code",
   "execution_count": 2,
   "metadata": {
    "dotnet_interactive": {
     "language": "pwsh"
    },
    "polyglot_notebook": {
     "kernelName": "pwsh"
    },
    "vscode": {
     "languageId": "polyglot-notebook"
    }
   },
   "outputs": [
    {
     "name": "stdout",
     "output_type": "stream",
     "text": [
      "On the first day of Christmas,\r\n",
      "My true love gave to me,\r\n",
      "A partridge in a pear tree.\r\n",
      "On the second day of Christmas,\r\n",
      "My true love gave to me,\r\n",
      "Two turtle doves,\r\n",
      "And a partridge in a pear tree.\r\n"
     ]
    }
   ],
   "source": [
    "./twelve_days.ps1 -n 2"
   ]
  }
 ],
 "metadata": {
  "kernelspec": {
   "display_name": ".NET (PowerShell)",
   "language": "PowerShell",
   "name": ".net-powershell"
  },
  "language_info": {
   "file_extension": ".ps1",
   "mimetype": "text/x-powershell",
   "name": "PowerShell",
   "pygments_lexer": "powershell",
   "version": "7.0"
  }
 },
 "nbformat": 4,
 "nbformat_minor": 4
}
