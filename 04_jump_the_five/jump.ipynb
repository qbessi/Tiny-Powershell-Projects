{
 "cells": [
  {
   "cell_type": "markdown",
   "metadata": {},
   "source": [
    "# Jump the Five\n",
    "\n",
    "Write a program that will encode any number in a given string using an algorithm to \"jump the five\" on a standard US telephone keypad such that \"1\" becomes \"9,\" \"4\" becomes \"6,\" etc. \n",
    "The \"5\" and the \"0\" will swap with each other.\n",
    "\n",
    "```\n",
    "1 => 9\n",
    "2 => 8\n",
    "3 => 7\n",
    "4 => 6\n",
    "5 => 0\n",
    "6 => 4\n",
    "7 => 3\n",
    "8 => 2\n",
    "9 => 1\n",
    "0 => 5\n",
    "```"
   ]
  },
  {
   "cell_type": "markdown",
   "metadata": {},
   "source": [
    "Encode only the numbers and leave all other text alone"
   ]
  },
  {
   "cell_type": "code",
   "execution_count": 1,
   "metadata": {
    "dotnet_interactive": {
     "language": "pwsh"
    },
    "polyglot_notebook": {
     "kernelName": "pwsh"
    },
    "vscode": {
     "languageId": "polyglot-notebook"
    }
   },
   "outputs": [
    {
     "name": "stdout",
     "output_type": "stream",
     "text": [
      "243-0751\r\n"
     ]
    }
   ],
   "source": [
    "./jump.ps1 867-5309"
   ]
  }
 ],
 "metadata": {
  "kernelspec": {
   "display_name": ".NET (PowerShell)",
   "language": "PowerShell",
   "name": ".net-powershell"
  },
  "language_info": {
   "file_extension": ".ps1",
   "mimetype": "text/x-powershell",
   "name": "PowerShell",
   "pygments_lexer": "powershell",
   "version": "7.0"
  }
 },
 "nbformat": 4,
 "nbformat_minor": 4
}
