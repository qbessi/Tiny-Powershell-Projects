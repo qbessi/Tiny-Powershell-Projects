{
 "cells": [
  {
   "cell_type": "markdown",
   "metadata": {},
   "source": [
    "# WOD (Workout of the Day)\n",
    "\n",
    "Create a program that will read a CSV `-f` or `-file` of exercises (default `exercises.csv`) and create a Workout of the Day"
   ]
  },
  {
   "cell_type": "code",
   "execution_count": 1,
   "metadata": {
    "dotnet_interactive": {
     "language": "pwsh"
    },
    "polyglot_notebook": {
     "kernelName": "pwsh"
    },
    "vscode": {
     "languageId": "polyglot-notebook"
    }
   },
   "outputs": [
    {
     "name": "stdout",
     "output_type": "stream",
     "text": [
      "\n",
      "\u001b[32;1mExercise Reps\u001b[0m\n",
      "\u001b[32;1m-------- ----\u001b[0m\n",
      "Lunges     28\n",
      "Pullups    21\n",
      "Crunches   30\n",
      "Plank      43\n",
      "\n"
     ]
    }
   ],
   "source": [
    "./wod.ps1 -s 2"
   ]
  },
  {
   "cell_type": "markdown",
   "metadata": {},
   "source": [
    "The program should accept an alternate `-file`"
   ]
  },
  {
   "cell_type": "code",
   "execution_count": 2,
   "metadata": {
    "dotnet_interactive": {
     "language": "pwsh"
    },
    "polyglot_notebook": {
     "kernelName": "pwsh"
    },
    "vscode": {
     "languageId": "polyglot-notebook"
    }
   },
   "outputs": [
    {
     "name": "stdout",
     "output_type": "stream",
     "text": [
      "\n",
      "\u001b[32;1mExercise             Reps\u001b[0m\n",
      "\u001b[32;1m--------             ----\u001b[0m\n",
      "Rock Squats            32\n",
      "Erstwhile Lunges       14\n",
      "Hanging Chads          73\n",
      "Masochistic Eardowns   15\n",
      "\n"
     ]
    }
   ],
   "source": [
    "./wod.ps1 -f ./inputs/silly-exercises.csv -seed 1"
   ]
  },
  {
   "cell_type": "markdown",
   "metadata": {},
   "source": [
    "The program should accept an `-n` or `-num` argument to control the number of exercises which are randomly chosen from the input file.\n",
    "\n",
    "The \"Reps\" value will be randomly chosen from the given low/high range in the \"reps\" column"
   ]
  },
  {
   "cell_type": "code",
   "execution_count": 3,
   "metadata": {
    "dotnet_interactive": {
     "language": "pwsh"
    },
    "polyglot_notebook": {
     "kernelName": "pwsh"
    },
    "vscode": {
     "languageId": "polyglot-notebook"
    }
   },
   "outputs": [
    {
     "name": "stdout",
     "output_type": "stream",
     "text": [
      "\n",
      "\u001b[32;1mExercise Reps\u001b[0m\n",
      "\u001b[32;1m-------- ----\u001b[0m\n",
      "Squats     33\n",
      "Burpees    32\n",
      "\n"
     ]
    }
   ],
   "source": [
    "./wod.ps1 -n 2"
   ]
  },
  {
   "cell_type": "markdown",
   "metadata": {},
   "source": [
    "The program should accept a `-s` or `-seed` value for the random seed to ensure reproducibility"
   ]
  },
  {
   "cell_type": "code",
   "execution_count": 4,
   "metadata": {
    "dotnet_interactive": {
     "language": "pwsh"
    },
    "polyglot_notebook": {
     "kernelName": "pwsh"
    },
    "vscode": {
     "languageId": "polyglot-notebook"
    }
   },
   "outputs": [
    {
     "name": "stdout",
     "output_type": "stream",
     "text": [
      "\n",
      "\u001b[32;1mExercise           Reps\u001b[0m\n",
      "\u001b[32;1m--------           ----\u001b[0m\n",
      "Situps               73\n",
      "Burpees              28\n",
      "Hand-stand pushups   14\n",
      "Lunges               25\n",
      "\n"
     ]
    }
   ],
   "source": [
    "./wod.ps1 -s 1"
   ]
  },
  {
   "cell_type": "markdown",
   "metadata": {},
   "source": [
    "As well as a `-e` or `-easy` flag to indicate that the reps should be halved"
   ]
  },
  {
   "cell_type": "code",
   "execution_count": 5,
   "metadata": {
    "dotnet_interactive": {
     "language": "pwsh"
    },
    "polyglot_notebook": {
     "kernelName": "pwsh"
    },
    "vscode": {
     "languageId": "polyglot-notebook"
    }
   },
   "outputs": [
    {
     "name": "stdout",
     "output_type": "stream",
     "text": [
      "\n",
      "\u001b[32;1mExercise           Reps\u001b[0m\n",
      "\u001b[32;1m--------           ----\u001b[0m\n",
      "Situps               36\n",
      "Burpees              14\n",
      "Hand-stand pushups    7\n",
      "Lunges               12\n",
      "\n"
     ]
    }
   ],
   "source": [
    "./wod.ps1 -s 1 -e"
   ]
  }
 ],
 "metadata": {
  "kernelspec": {
   "display_name": ".NET (PowerShell)",
   "language": "PowerShell",
   "name": ".net-powershell"
  },
  "language_info": {
   "file_extension": ".ps1",
   "mimetype": "text/x-powershell",
   "name": "PowerShell",
   "pygments_lexer": "powershell",
   "version": "7.0"
  }
 },
 "nbformat": 4,
 "nbformat_minor": 4
}
