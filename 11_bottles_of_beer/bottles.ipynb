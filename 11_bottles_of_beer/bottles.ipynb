{
 "cells": [
  {
   "cell_type": "markdown",
   "metadata": {},
   "source": [
    "# 99 Bottles of Beer\n",
    "\n",
    "Write a song that will generate the verses to the song \"99 Bottles of Beer\"\n"
   ]
  },
  {
   "cell_type": "code",
   "execution_count": 1,
   "metadata": {
    "dotnet_interactive": {
     "language": "pwsh"
    },
    "polyglot_notebook": {
     "kernelName": "pwsh"
    },
    "vscode": {
     "languageId": "polyglot-notebook"
    }
   },
   "outputs": [
    {
     "name": "stdout",
     "output_type": "stream",
     "text": [
      "10 bottles of beer on the wall,\r\n",
      "10 bottles of beer,\r\n",
      "Take one down, pass it around,\r\n",
      "9 bottles of beer on the wall!\r\n",
      "9 bottles of beer on the wall,\r\n",
      "9 bottles of beer,\r\n",
      "Take one down, pass it around,\r\n",
      "8 bottles of beer on the wall!\r\n",
      "8 bottles of beer on the wall,\r\n",
      "8 bottles of beer,\r\n",
      "Take one down, pass it around,\r\n",
      "7 bottles of beer on the wall!\r\n",
      "7 bottles of beer on the wall,\r\n",
      "7 bottles of beer,\r\n",
      "Take one down, pass it around,\r\n",
      "6 bottles of beer on the wall!\r\n",
      "6 bottles of beer on the wall,\r\n",
      "6 bottles of beer,\r\n",
      "Take one down, pass it around,\r\n",
      "5 bottles of beer on the wall!\r\n",
      "5 bottles of beer on the wall,\r\n",
      "5 bottles of beer,\r\n",
      "Take one down, pass it around,\r\n",
      "4 bottles of beer on the wall!\r\n",
      "4 bottles of beer on the wall,\r\n",
      "4 bottles of beer,\r\n",
      "Take one down, pass it around,\r\n",
      "3 bottles of beer on the wall!\r\n",
      "3 bottles of beer on the wall,\r\n",
      "3 bottles of beer,\r\n",
      "Take one down, pass it around,\r\n",
      "2 bottles of beer on the wall!\r\n",
      "2 bottles of beer on the wall,\r\n",
      "2 bottles of beer,\r\n",
      "Take one down, pass it around,\r\n",
      "1 bottle of beer on the wall!\r\n",
      "1 bottle of beer on the wall,\r\n",
      "1 bottle of beer,\r\n",
      "Take one down, pass it around,\r\n",
      "No more bottles of beer on the wall!\r\n",
      "\r\n"
     ]
    }
   ],
   "source": [
    "./bottles.ps1 | Select-Object -Last 2"
   ]
  },
  {
   "cell_type": "markdown",
   "metadata": {},
   "source": [
    "If given a `-n` or `--num` argument, generate the verses from that number down to 0"
   ]
  },
  {
   "cell_type": "code",
   "execution_count": 2,
   "metadata": {
    "dotnet_interactive": {
     "language": "pwsh"
    },
    "polyglot_notebook": {
     "kernelName": "pwsh"
    },
    "vscode": {
     "languageId": "polyglot-notebook"
    }
   },
   "outputs": [
    {
     "name": "stdout",
     "output_type": "stream",
     "text": [
      "2 bottles of beer on the wall,\r\n",
      "2 bottles of beer,\r\n",
      "Take one down, pass it around,\r\n",
      "1 bottle of beer on the wall!\r\n",
      "1 bottle of beer on the wall,\r\n",
      "1 bottle of beer,\r\n",
      "Take one down, pass it around,\r\n",
      "No more bottles of beer on the wall!\r\n",
      "\r\n"
     ]
    }
   ],
   "source": [
    " ./bottles.ps1 -n 2"
   ]
  }
 ],
 "metadata": {
  "kernelspec": {
   "display_name": ".NET (PowerShell)",
   "language": "PowerShell",
   "name": ".net-powershell"
  },
  "language_info": {
   "file_extension": ".ps1",
   "mimetype": "text/x-powershell",
   "name": "PowerShell",
   "pygments_lexer": "powershell",
   "version": "7.0"
  }
 },
 "nbformat": 4,
 "nbformat_minor": 4
}
