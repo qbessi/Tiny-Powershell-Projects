{
 "cells": [
  {
   "cell_type": "markdown",
   "metadata": {},
   "source": [
    "# Telephone\n",
    "\n",
    "Write a program that randomly mutates some given text which may be given on the command line\n"
   ]
  },
  {
   "cell_type": "code",
   "execution_count": 1,
   "metadata": {
    "dotnet_interactive": {
     "language": "pwsh"
    },
    "polyglot_notebook": {
     "kernelName": "pwsh"
    },
    "vscode": {
     "languageId": "polyglot-notebook"
    }
   },
   "outputs": [
    {
     "name": "stdout",
     "output_type": "stream",
     "text": [
      "You said: \"The quick brown fox jumps over the lazy dog.\"\r\n",
      "I heard : \"The quick brkwn foU jumrs over thJ lazy dog.\"\r\n"
     ]
    }
   ],
   "source": [
    ".\\telephone.ps1 'The quick brown fox jumps over the lazy dog.'"
   ]
  },
  {
   "cell_type": "markdown",
   "metadata": {},
   "source": [
    "Or from a file"
   ]
  },
  {
   "cell_type": "code",
   "execution_count": 2,
   "metadata": {
    "dotnet_interactive": {
     "language": "pwsh"
    },
    "polyglot_notebook": {
     "kernelName": "pwsh"
    },
    "vscode": {
     "languageId": "polyglot-notebook"
    }
   },
   "outputs": [
    {
     "name": "stdout",
     "output_type": "stream",
     "text": [
      "You said: \"The quick brown fox jumps over the lazy dog.\"\r\n",
      "I heard : \"/he quiWk brown fBxujumps over the lazy dog.\"\r\n"
     ]
    }
   ],
   "source": [
    " .\\telephone.ps1 ../inputFiles/fox.txt"
   ]
  },
  {
   "cell_type": "markdown",
   "metadata": {},
   "source": [
    "The program should accept a `-m` or `--mutations` that is a floating point number between 0 and 1 that represents a percentage of mutations to introduce\n"
   ]
  },
  {
   "cell_type": "code",
   "execution_count": 3,
   "metadata": {
    "dotnet_interactive": {
     "language": "pwsh"
    },
    "polyglot_notebook": {
     "kernelName": "pwsh"
    },
    "vscode": {
     "languageId": "polyglot-notebook"
    }
   },
   "outputs": [
    {
     "name": "stdout",
     "output_type": "stream",
     "text": [
      "You said: \"The quick brown fox jumps over the lazy dog.\"\r\n",
      "I heard : \"LhmaNui\\kW>r]wn qMx YCxws o`FvQtheyl*zP dogh\"\r\n"
     ]
    }
   ],
   "source": [
    ".\\telephone.ps1 -m .5 ../inputFiles/fox.txt"
   ]
  },
  {
   "cell_type": "markdown",
   "metadata": {},
   "source": [
    "It should also accept a `-s` or `-seed` argument for the random seed to ensure reproducible results"
   ]
  },
  {
   "cell_type": "code",
   "execution_count": 4,
   "metadata": {
    "dotnet_interactive": {
     "language": "pwsh"
    },
    "polyglot_notebook": {
     "kernelName": "pwsh"
    },
    "vscode": {
     "languageId": "polyglot-notebook"
    }
   },
   "outputs": [
    {
     "name": "stdout",
     "output_type": "stream",
     "text": [
      "You said: \"The quick brown fox jumps over the lazy dog.\"\r\n",
      "I heard : \"The quick\\brown fox jNyps over tGe lazy dog.\"\r\n"
     ]
    }
   ],
   "source": [
    ".\\telephone.ps1 -s 2 ../inputFiles/fox.txt"
   ]
  }
 ],
 "metadata": {
  "kernelspec": {
   "display_name": ".NET (PowerShell)",
   "language": "PowerShell",
   "name": ".net-powershell"
  },
  "language_info": {
   "file_extension": ".ps1",
   "mimetype": "text/x-powershell",
   "name": "PowerShell",
   "pygments_lexer": "powershell",
   "version": "7.0"
  }
 },
 "nbformat": 4,
 "nbformat_minor": 4
}
