{
 "cells": [
  {
   "cell_type": "markdown",
   "metadata": {},
   "source": [
    "# Word Count\n",
    "\n",
    "Write a PowerShell implementation of `wc` (word count).\n",
    "The program should print lines, words, and characters for each input.\n",
    "\n",
    "Files are acceptable arguments\n"
   ]
  },
  {
   "cell_type": "code",
   "execution_count": 1,
   "metadata": {
    "dotnet_interactive": {
     "language": "pwsh"
    },
    "polyglot_notebook": {
     "kernelName": "pwsh"
    }
   },
   "outputs": [
    {
     "name": "stdout",
     "output_type": "stream",
     "text": [
      "\n",
      "\u001b[32;1mlines words characters name\u001b[0m\n",
      "\u001b[32;1m----- ----- ---------- ----\u001b[0m\n",
      "    1    10         44 ..\\inputFiles\\fox.txt\n",
      "\n"
     ]
    }
   ],
   "source": [
    ".\\wc.ps1 ..\\inputFiles\\fox.txt"
   ]
  },
  {
   "cell_type": "markdown",
   "metadata": {},
   "source": [
    "As is \"standard in\" (`STDIN`) if given no arguments"
   ]
  },
  {
   "cell_type": "code",
   "execution_count": 2,
   "metadata": {
    "dotnet_interactive": {
     "language": "pwsh"
    },
    "polyglot_notebook": {
     "kernelName": "pwsh"
    }
   },
   "outputs": [
    {
     "name": "stdout",
     "output_type": "stream",
     "text": [
      "\n",
      "\u001b[32;1mlines words characters name\u001b[0m\n",
      "\u001b[32;1m----- ----- ---------- ----\u001b[0m\n",
      "    1    10         44 The quick brown fox jumps over the lazy dog.\n",
      "\n"
     ]
    }
   ],
   "source": [
    "cat ..\\inputFiles\\fox.txt | .\\wc.ps1"
   ]
  },
  {
   "cell_type": "markdown",
   "metadata": {},
   "source": [
    "If given more than one file, also include a summary for each column"
   ]
  },
  {
   "cell_type": "code",
   "execution_count": 3,
   "metadata": {
    "dotnet_interactive": {
     "language": "pwsh"
    },
    "polyglot_notebook": {
     "kernelName": "pwsh"
    }
   },
   "outputs": [
    {
     "name": "stdout",
     "output_type": "stream",
     "text": [
      "\n",
      "\u001b[32;1m lines  words characters name\u001b[0m\n",
      "\u001b[32;1m -----  ----- ---------- ----\u001b[0m\n",
      "249166 340980    3333150 ..\\inputFiles\\*.txt\n",
      "\n"
     ]
    }
   ],
   "source": [
    ".\\wc.ps1 ..\\inputFiles\\*.txt"
   ]
  }
 ],
 "metadata": {
  "kernelspec": {
   "display_name": ".NET (C#)",
   "language": "C#",
   "name": ".net-csharp"
  },
  "language_info": {
   "file_extension": ".ps1",
   "mimetype": "text/x-powershell",
   "name": "polyglot-notebook",
   "pygments_lexer": "powershell",
   "version": "7.0"
  },
  "polyglot_notebook": {
   "kernelInfo": {
    "defaultKernelName": "csharp",
    "items": [
     {
      "aliases": [],
      "name": "csharp"
     },
     {
      "aliases": [],
      "name": "powershell"
     }
    ]
   }
  }
 },
 "nbformat": 4,
 "nbformat_minor": 4
}
